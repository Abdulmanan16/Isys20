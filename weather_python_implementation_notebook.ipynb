{
  "cells": [
    {
      "cell_type": "markdown",
      "metadata": {
        "id": "view-in-github",
        "colab_type": "text"
      },
      "source": [
        "<a href=\"https://colab.research.google.com/github/Abdulmanan16/Isys20/blob/main/weather_python_implementation_notebook.ipynb\" target=\"_parent\"><img src=\"https://colab.research.google.com/assets/colab-badge.svg\" alt=\"Open In Colab\"/></a>"
      ]
    },
    {
      "cell_type": "markdown",
      "metadata": {
        "id": "sQ-WHepbYA5g"
      },
      "source": [
        "# Weather Adventures in Python Land: Implementation Notebook\n",
        "\n",
        "In this notebook, we'll implement some of the weather-related scenarios we explored in pseudocode. Focus on using branching (if-else statements) and loops, as well as any built-in functions you've learned about."
      ]
    },
    {
      "cell_type": "markdown",
      "metadata": {
        "id": "CqoY-E2RYA5i"
      },
      "source": [
        "## Question 1: Temperature-Based Clothing Suggester\n",
        "\n",
        "Implement a program that suggests what to wear based on the temperature. Use the rules from the pseudocode exercise:\n",
        "- If it's above 25°C, suggest light clothing.\n",
        "- If it's between 15°C and 25°C, suggest a light jacket.\n",
        "- If it's below 15°C, suggest warm clothing."
      ]
    },
    {
      "cell_type": "code",
      "execution_count": 2,
      "metadata": {
        "id": "XB64wE6NYA5j",
        "outputId": "271a97f7-96fa-4c1e-a1c6-017a1564bd82",
        "colab": {
          "base_uri": "https://localhost:8080/"
        }
      },
      "outputs": [
        {
          "output_type": "stream",
          "name": "stdout",
          "text": [
            "What is the temperature? 14\n",
            "wear warm clothing.\n"
          ]
        }
      ],
      "source": [
        "temp=float(input(\"What is the temperature? \"))\n",
        "if(temp>=25):\n",
        "  print (\"Wear Light Cloth.\")\n",
        "if(temp >= 15 and temp <= 25):\n",
        "    print (\"Wear light jacket.\")\n",
        "if(temp<=15):\n",
        "    print (\"Wear warm clothing.\")\n",
        "\n",
        "\n"
      ]
    },
    {
      "cell_type": "markdown",
      "metadata": {
        "id": "rWMj4GnwYA5k"
      },
      "source": [
        "## Question 2: Picnic Day Checker\n",
        "\n",
        "Create a program that checks if it's a good day for a picnic. It's a good day if it's not raining AND the temperature is between 20°C and 30°C."
      ]
    },
    {
      "cell_type": "code",
      "execution_count": 3,
      "metadata": {
        "id": "ElL3BT_MYA5k",
        "outputId": "85b37c67-961b-4f1d-a034-890cbcf5c82c",
        "colab": {
          "base_uri": "https://localhost:8080/"
        }
      },
      "outputs": [
        {
          "output_type": "stream",
          "name": "stdout",
          "text": [
            "What is the temperature today?25\n",
            "Is it raining today? (yes/no) no\n",
            "good Day fo Picnic!\n"
          ]
        }
      ],
      "source": [
        "temp=float(input(\"What is the temperature today?\"))\n",
        "rain=input(\"Is it raining today? (yes/no) \")\n",
        "if temp >=20 and temp <=30 and rain== \"no\":\n",
        "  print(\"good Day fo Picnic!\")\n",
        "else:\n",
        "  print(\"Not a good day for Picnic.\")\n",
        "\n"
      ]
    },
    {
      "cell_type": "markdown",
      "metadata": {
        "id": "LqgZAh_nYA5k"
      },
      "source": [
        "## Question 3: Rainy Days Counter\n",
        "\n",
        "Write a program that counts the number of rainy days in a week. Use a loop to check each day's weather condition."
      ]
    },
    {
      "cell_type": "code",
      "execution_count": 8,
      "metadata": {
        "id": "ioxSgD9BYA5l",
        "outputId": "44bd9729-42dd-4895-e716-067b6674228c",
        "colab": {
          "base_uri": "https://localhost:8080/"
        }
      },
      "outputs": [
        {
          "output_type": "stream",
          "name": "stdout",
          "text": [
            "Is it raining today? (yes/no):yes\n",
            "Is it raining today? (yes/no):yes\n",
            "Is it raining today? (yes/no):no\n",
            "Is it raining today? (yes/no):no\n",
            "Is it raining today? (yes/no):no\n",
            "Is it raining today? (yes/no):no\n",
            "Is it raining today? (yes/no):no\n",
            "Number of rainy days: 2\n"
          ]
        }
      ],
      "source": [
        "rain_count = 0\n",
        "\n",
        "for day in range(7):\n",
        "    rain = input(\"Is it raining today? (yes/no):\")\n",
        "\n",
        "    if rain == \"yes\" :\n",
        "        rain_count += 1\n",
        "print(\"Number of rainy days:\", rain_count)\n",
        "\n",
        "\n"
      ]
    },
    {
      "cell_type": "markdown",
      "metadata": {
        "id": "Jy6YYlJtYA5l"
      },
      "source": [
        "## Question 4: Average Temperature Calculator\n",
        "\n",
        "Implement a program that calculates the average temperature for a 5-day period. Use a loop to input temperatures and calculate the average."
      ]
    },
    {
      "cell_type": "code",
      "execution_count": 9,
      "metadata": {
        "id": "AZE44NCjYA5l",
        "outputId": "c2632321-3271-4e6b-a87a-c8246b9cefa0",
        "colab": {
          "base_uri": "https://localhost:8080/"
        }
      },
      "outputs": [
        {
          "output_type": "stream",
          "name": "stdout",
          "text": [
            "Enter the temperature for day. 14\n",
            "Enter the temperature for day. 15\n",
            "Enter the temperature for day. 16\n",
            "Enter the temperature for day. 17\n",
            "Enter the temperature for day. 18\n",
            "The average temperature over the 5 days period is: 16.0 °C\n"
          ]
        }
      ],
      "source": [
        "temperature_count = 0\n",
        "\n",
        "for day in range(5):\n",
        "    temperature = float(input(\"Enter the temperature for day. \"))\n",
        "    temperature_count += temperature\n",
        "average_temperature = temperature_count / 5\n",
        "\n",
        "print(\"The average temperature over the 5 days period is:\", (average_temperature), \"°C\")\n",
        "\n"
      ]
    },
    {
      "cell_type": "markdown",
      "metadata": {
        "id": "tHYLlPvgYA5m"
      },
      "source": [
        "## Question 5: Heat Wave Warning System\n",
        "\n",
        "Create a program that issues a heat wave warning. A heat wave is when the temperature is above 35°C for three consecutive days. Use a loop and counting mechanism."
      ]
    },
    {
      "cell_type": "code",
      "execution_count": 10,
      "metadata": {
        "id": "dM2n1CvpYA5m",
        "outputId": "f8bade2c-e404-4427-c86b-c73710f5f266",
        "colab": {
          "base_uri": "https://localhost:8080/"
        }
      },
      "outputs": [
        {
          "output_type": "stream",
          "name": "stdout",
          "text": [
            "Enter the temperature for day. 30\n",
            "Enter the temperature for day. 35\n",
            "Enter the temperature for day. 36\n",
            "Enter the temperature for day. 37\n",
            "Heat wave warning: Temperature is above 35°C for the past three days!\n"
          ]
        }
      ],
      "source": [
        "backtoback_hot_days = 0\n",
        "heat_wave_threshold = 3\n",
        "\n",
        "for day in range(7):\n",
        "    temperature = float(input(\"Enter the temperature for day. \"))\n",
        "\n",
        "    if temperature >= 35:\n",
        "        backtoback_hot_days += 1\n",
        "        if backtoback_hot_days >= heat_wave_threshold:\n",
        "            print(\"Heat wave warning: Temperature is above 35°C for the past three days!\")\n",
        "            break\n",
        "    else:\n",
        "        backtoback_hot_days = 0\n",
        "if backtoback_hot_days < heat_wave_threshold:\n",
        "    print(\"No heat wave occurred during this period.\")\n",
        "\n"
      ]
    },
    {
      "cell_type": "markdown",
      "metadata": {
        "id": "dU_BvGEqYA5m"
      },
      "source": [
        "## Reflection\n",
        "\n",
        "1. How did your Python implementations differ from your original pseudocode? Were there any challenges in translating pseudocode to Python?\n",
        "\n",
        "2. Which problem was the most challenging to implement? Why?\n",
        "\n",
        "3. If you were to ask a GenAI tutor for help with one of these implementations, what specific question would you ask?"
      ]
    },
    {
      "cell_type": "markdown",
      "metadata": {
        "id": "o1CKeDjIYA5m"
      },
      "source": [
        "Your reflections here:\n",
        "\n",
        "1. Using Synthax and conditional statements made it harder for me to translate my pseudocode to Python.\n",
        "\n",
        "2. The last question was very hard for me, even after I completed the coding for it when I ran the code it kept asking for more inputs even though I had received the heatwave warning. I was not able to fix the problem until I asked\n",
        "GenAI where was the problem. The problem was in Line 9 I needed to put the break input to stop the problem.\n",
        "3. I have written this code for a heatwave warning can you explain where is the problem in this code?"
      ]
    }
  ],
  "metadata": {
    "kernelspec": {
      "display_name": "Python 3",
      "language": "python",
      "name": "python3"
    },
    "language_info": {
      "codemirror_mode": {
        "name": "ipython",
        "version": 3
      },
      "file_extension": ".py",
      "mimetype": "text/x-python",
      "name": "python",
      "nbconvert_exporter": "python",
      "pygments_lexer": "ipython3",
      "version": "3.8.5"
    },
    "colab": {
      "provenance": [],
      "include_colab_link": true
    }
  },
  "nbformat": 4,
  "nbformat_minor": 0
}