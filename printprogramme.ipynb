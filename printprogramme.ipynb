{
  "nbformat": 4,
  "nbformat_minor": 0,
  "metadata": {
    "colab": {
      "provenance": [],
      "authorship_tag": "ABX9TyOv/AM8lQ6UcDF5hfrtVfsH",
      "include_colab_link": true
    },
    "kernelspec": {
      "name": "python3",
      "display_name": "Python 3"
    },
    "language_info": {
      "name": "python"
    }
  },
  "cells": [
    {
      "cell_type": "markdown",
      "metadata": {
        "id": "view-in-github",
        "colab_type": "text"
      },
      "source": [
        "<a href=\"https://colab.research.google.com/github/Abdulmanan16/Isys20/blob/main/printprogramme.ipynb\" target=\"_parent\"><img src=\"https://colab.research.google.com/assets/colab-badge.svg\" alt=\"Open In Colab\"/></a>"
      ]
    },
    {
      "cell_type": "code",
      "execution_count": 2,
      "metadata": {
        "colab": {
          "base_uri": "https://localhost:8080/"
        },
        "id": "NZo0Wxg8nGRO",
        "outputId": "a64f7585-32b7-4a4c-f267-b3cedd4e065a"
      },
      "outputs": [
        {
          "output_type": "stream",
          "name": "stdout",
          "text": [
            "hi my name is zoro\n",
            "I am doing bachelors degree\n"
          ]
        }
      ],
      "source": [
        "print(\"hi my name is zoro\")\n",
        "print(\"I am doing bachelors degree\")"
      ]
    },
    {
      "cell_type": "markdown",
      "source": [
        "practising print command"
      ],
      "metadata": {
        "id": "Q8ZFUPBaoCKb"
      }
    },
    {
      "cell_type": "code",
      "source": [
        "print(\"the weather is pretty chill\")\n",
        "print(\"A cup of hot coffee would be a great treat\")\n"
      ],
      "metadata": {
        "colab": {
          "base_uri": "https://localhost:8080/"
        },
        "id": "qPJ8yRFenkTn",
        "outputId": "042949e8-b1b1-4009-bc31-1cbe53bc57cc"
      },
      "execution_count": 4,
      "outputs": [
        {
          "output_type": "stream",
          "name": "stdout",
          "text": [
            "the weather is pretty chill\n",
            "A cup of hot coffee would be a great treat\n"
          ]
        }
      ]
    },
    {
      "cell_type": "code",
      "source": [
        "print(\"tell me your name\")"
      ],
      "metadata": {
        "colab": {
          "base_uri": "https://localhost:8080/"
        },
        "id": "zQ-ZmPv6oLa2",
        "outputId": "cae042ba-17a3-4b62-9e8b-be1e758948bd"
      },
      "execution_count": 5,
      "outputs": [
        {
          "output_type": "stream",
          "name": "stdout",
          "text": [
            "tell me your name\n"
          ]
        }
      ]
    }
  ]
}