{
  "nbformat": 4,
  "nbformat_minor": 0,
  "metadata": {
    "colab": {
      "provenance": [],
      "authorship_tag": "ABX9TyM4fKHQpzhWDNka48opyWEN",
      "include_colab_link": true
    },
    "kernelspec": {
      "name": "python3",
      "display_name": "Python 3"
    },
    "language_info": {
      "name": "python"
    }
  },
  "cells": [
    {
      "cell_type": "markdown",
      "metadata": {
        "id": "view-in-github",
        "colab_type": "text"
      },
      "source": [
        "<a href=\"https://colab.research.google.com/github/Abdulmanan16/Isys20/blob/main/week1_workshop_codemagnet.ipynb\" target=\"_parent\"><img src=\"https://colab.research.google.com/assets/colab-badge.svg\" alt=\"Open In Colab\"/></a>"
      ]
    },
    {
      "cell_type": "markdown",
      "source": [],
      "metadata": {
        "id": "doehWL23r9-S"
      }
    },
    {
      "cell_type": "markdown",
      "source": [
        "1. Crack three eggs into a bowl.\n",
        "2. Whip eggs.\n",
        "3. Heat saute pan.\n",
        "4. Transfer eggs to pan.\n",
        "5. while eggs aren't fully mixed.\n",
        "6. Stir eggs.\n",
        "7. If the customer orders cheese.\n",
        "8. While eggs are not fully cooked.\n",
        "9. Add Cheese on top.\n",
        "10. Transfer the eggs to plate.\n",
        "11. Remove the pan from the Heat.\n",
        "12. Serve."
      ],
      "metadata": {
        "id": "jhHUxXyMr_0j"
      }
    }
  ]
}