{
  "cells": [
    {
      "cell_type": "markdown",
      "metadata": {
        "id": "view-in-github",
        "colab_type": "text"
      },
      "source": [
        "<a href=\"https://colab.research.google.com/github/Abdulmanan16/Isys20/blob/main/In_class_08_worksheet.ipynb\" target=\"_parent\"><img src=\"https://colab.research.google.com/assets/colab-badge.svg\" alt=\"Open In Colab\"/></a>"
      ]
    },
    {
      "cell_type": "raw",
      "metadata": {
        "id": "6b0eb976"
      },
      "source": [
        "---\n",
        "title: \"Fetching Data from the OpenWeatherMap API\"\n",
        "execute: false\n",
        "format:\n",
        "  pdf:\n",
        "      toc: false\n",
        "      colorlinks: true\n",
        "  docx:\n",
        "      toc: false\n",
        "      highlight-style: github\n",
        "  html:\n",
        "      toc: true\n",
        "      toc-expand: 2\n",
        "      embed-resources: true\n",
        "---"
      ],
      "id": "6b0eb976"
    },
    {
      "cell_type": "markdown",
      "metadata": {
        "id": "2842a814"
      },
      "source": [
        "## Objectives\n",
        "- Understand what APIs are and why they're useful\n",
        "- Learn how to fetch weather data using the OpenWeatherMap API\n",
        "- Understand how to handle API responses and errors\n",
        "- Save fetched data to a CSV file\n",
        "- Perform basic data manipulation and visualisation with weather data\n",
        "- Learn about API rate limits and best practices\n",
        "\n",
        "## Introduction to APIs and OpenWeatherMap\n",
        "\n",
        "### What are APIs?\n",
        "API stands for Application Programming Interface. It's a set of rules and\n",
        "protocols that allow different software applications to communicate with each\n",
        "other. APIs enable developers to access specific features or data from other\n",
        "services or applications without needing to understand their internal workings.\n",
        "\n",
        "### Why are APIs useful?\n",
        "1. **Data Access**: APIs allow access to valuable data from external sources.\n",
        "2. **Functionality**: They enable the use of pre-built functionalities, saving\n",
        "   development time.\n",
        "3. **Integration**: APIs facilitate easy integration between different systems\n",
        "   and services.\n",
        "4. **Scalability**: They allow applications to scale by leveraging external\n",
        "   services.\n",
        "\n",
        "### Introduction to OpenWeatherMap API\n",
        "The OpenWeatherMap API provides weather data for various locations worldwide.\n",
        "It's a great example of how APIs can provide valuable data for applications.\n",
        "\n",
        "## Introduction to OpenWeatherMap API\n",
        "The OpenWeatherMap API provides weather data for various locations. You need to\n",
        "sign up and get an API key to access the data.\n",
        "\n",
        "### Steps to Get API Key\n",
        "1. Go to [OpenWeatherMap](https://home.openweathermap.org/users/sign_up) and sign up for an account.\n",
        "2. After signing up, navigate to the API keys section and generate a new API key.\n",
        "3. Keep this API key safe, as you will need it to make API requests.\n",
        "\n",
        "> Note: Once you have your API key, it can take between 15-20 mins to become active\n",
        "\n",
        "## 2. Fetching Weather Data\n",
        "We'll use the `requests` library to fetch weather data from the OpenWeatherMap API.\n",
        "\n",
        "### Import Required Libraries\n"
      ],
      "id": "2842a814"
    },
    {
      "cell_type": "code",
      "metadata": {
        "id": "e0fe6ebe"
      },
      "source": [
        "import requests\n",
        "import pandas as pd  # We needed this later, lets import it now"
      ],
      "id": "e0fe6ebe",
      "execution_count": 27,
      "outputs": []
    },
    {
      "cell_type": "markdown",
      "metadata": {
        "id": "532d388e"
      },
      "source": [
        "### Fetch some Data\n",
        "Lets fetch some data..  Replace `'your_api_key_here'` with your actual API key and fetch data for a sample location.\n"
      ],
      "id": "532d388e"
    },
    {
      "cell_type": "code",
      "metadata": {
        "colab": {
          "base_uri": "https://localhost:8080/"
        },
        "id": "f62c8f63",
        "outputId": "dcc09891-3ea9-4bd5-a8ba-71dd08e67c24"
      },
      "source": [
        "# Setup important variables\n",
        "api_key = 'bb488755a468c8cb96cafbb7e3764925'\n",
        "location = 'Adelaide'\n",
        "\n",
        "# Make request to website endpoint\n",
        "url = f\"http://api.openweathermap.org/data/2.5/weather?q={location}&appid={api_key}\"\n",
        "response = requests.get(url)\n",
        "\n",
        "# Print response\n",
        "response"
      ],
      "id": "f62c8f63",
      "execution_count": 13,
      "outputs": [
        {
          "output_type": "execute_result",
          "data": {
            "text/plain": [
              "<Response [200]>"
            ]
          },
          "metadata": {},
          "execution_count": 13
        }
      ]
    },
    {
      "cell_type": "markdown",
      "metadata": {
        "id": "d119e916"
      },
      "source": [
        "> Note: A response code of 200 means the request was successful. Other codes, like 404 (not found) or 401 (unauthorised), indicate various errors.\n",
        "\n",
        "What happens if the location does not exist, try a location that does not exist.  \n",
        "\n",
        "Try:\n",
        "```python\n",
        "location='ABCDEFG'\n",
        "```\n"
      ],
      "id": "d119e916"
    },
    {
      "cell_type": "code",
      "metadata": {
        "colab": {
          "base_uri": "https://localhost:8080/"
        },
        "id": "8ac7997c",
        "outputId": "fa29dfa9-322c-448a-c1ab-5a6ee9bee1be"
      },
      "source": [
        "# Either modify the above cell or add code with incorrect location here\n",
        "\n",
        "# Setup important variables\n",
        "api_key = 'bb488755a468c8cb96cafbb7e3764925'\n",
        "location = 'ABCDEFG'\n",
        "\n",
        "# Make request to website endpoint\n",
        "url = f\"http://api.openweathermap.org/data/2.5/weather?q={location}&appid={api_key}\"\n",
        "response = requests.get(url)\n",
        "\n",
        "# Print response\n",
        "response"
      ],
      "id": "8ac7997c",
      "execution_count": 14,
      "outputs": [
        {
          "output_type": "execute_result",
          "data": {
            "text/plain": [
              "<Response [404]>"
            ]
          },
          "metadata": {},
          "execution_count": 14
        }
      ]
    },
    {
      "cell_type": "markdown",
      "metadata": {
        "id": "0278fbe6"
      },
      "source": [
        "### Define Function to Fetch Weather Data\n",
        "Let's create a function to fetch weather data for a specific location.\n",
        "\n",
        "Why are we putting this into a function?\n"
      ],
      "id": "0278fbe6"
    },
    {
      "cell_type": "code",
      "metadata": {
        "id": "65930162"
      },
      "source": [
        "def fetch_weather_data(bb488755a468c8cb96cafbb7e3764925, Sydney):\n",
        "    url = f\"http://api.openweathermap.org/data/2.5/weather?q={location}&appid={api_key}\"\n",
        "    response = requests.get(url)\n",
        "    if response.status_code == 200:\n",
        "        data = response.json()\n",
        "        return data\n",
        "    else:\n",
        "        print(f\"Failed to fetch data: {response.status_code}\")\n",
        "        return None"
      ],
      "id": "65930162",
      "execution_count": 19,
      "outputs": []
    },
    {
      "cell_type": "markdown",
      "metadata": {
        "id": "cb77f554"
      },
      "source": [
        "Let us use the new function.  We will look at API key security soon, but for now lets replace `'your_api_key_here'` with your actual API key and fetch data for a sample location.\n"
      ],
      "id": "cb77f554"
    },
    {
      "cell_type": "code",
      "metadata": {
        "colab": {
          "base_uri": "https://localhost:8080/"
        },
        "id": "9a0c530d",
        "outputId": "5d10d257-c4c7-42ed-d70c-2583dcc11ea5"
      },
      "source": [
        "api_key = 'bb488755a468c8cb96cafbb7e3764925'\n",
        "location = 'Sydney'\n",
        "data = fetch_weather_data(api_key, location)\n",
        "data"
      ],
      "id": "9a0c530d",
      "execution_count": 20,
      "outputs": [
        {
          "output_type": "execute_result",
          "data": {
            "text/plain": [
              "{'coord': {'lon': 151.2073, 'lat': -33.8679},\n",
              " 'weather': [{'id': 800,\n",
              "   'main': 'Clear',\n",
              "   'description': 'clear sky',\n",
              "   'icon': '01d'}],\n",
              " 'base': 'stations',\n",
              " 'main': {'temp': 291.52,\n",
              "  'feels_like': 290.48,\n",
              "  'temp_min': 290.2,\n",
              "  'temp_max': 294.2,\n",
              "  'pressure': 1022,\n",
              "  'humidity': 41,\n",
              "  'sea_level': 1022,\n",
              "  'grnd_level': 1017},\n",
              " 'visibility': 10000,\n",
              " 'wind': {'speed': 2.24, 'deg': 89, 'gust': 4.92},\n",
              " 'clouds': {'all': 0},\n",
              " 'dt': 1726458436,\n",
              " 'sys': {'type': 2,\n",
              "  'id': 2091046,\n",
              "  'country': 'AU',\n",
              "  'sunrise': 1726429996,\n",
              "  'sunset': 1726472826},\n",
              " 'timezone': 36000,\n",
              " 'id': 2147714,\n",
              " 'name': 'Sydney',\n",
              " 'cod': 200}"
            ]
          },
          "metadata": {},
          "execution_count": 20
        }
      ]
    },
    {
      "cell_type": "markdown",
      "metadata": {
        "id": "c88f98ee"
      },
      "source": [
        "## 3. Parsing and Displaying Data\n",
        "The data returned form an API call is in JSON format.  The requests library will convert this to Python dictionary for us but\n",
        "we don't need all the information.  The process of extracting just the relevant details, is often called parsing. We'll parse the JSON response and extract relevant information.  As we might want to do this often, lets put this into a function.\n"
      ],
      "id": "c88f98ee"
    },
    {
      "cell_type": "code",
      "metadata": {
        "colab": {
          "base_uri": "https://localhost:8080/"
        },
        "id": "95f9a7fc",
        "outputId": "9d3f0ecc-6ecd-46b1-a364-86ecb430d2ad"
      },
      "source": [
        "def parse_weather_data(data):\n",
        "    if data:\n",
        "        weather = {\n",
        "            \"Location\": data[\"name\"],\n",
        "            \"Temperature (K)\": data[\"main\"][\"temp\"],\n",
        "            \"Humidity (%)\": data[\"main\"][\"humidity\"],\n",
        "            \"Weather\": data[\"weather\"][0][\"description\"]\n",
        "        }\n",
        "        return weather\n",
        "    else:\n",
        "        return None\n",
        "\n",
        "api_key = 'bb488755a468c8cb96cafbb7e3764925'\n",
        "location = 'Perth'\n",
        "data = fetch_weather_data(api_key, location)\n",
        "parsed_data = parse_weather_data(data)\n",
        "parsed_data"
      ],
      "id": "95f9a7fc",
      "execution_count": 21,
      "outputs": [
        {
          "output_type": "execute_result",
          "data": {
            "text/plain": [
              "{'Location': 'Perth',\n",
              " 'Temperature (K)': 294.96,\n",
              " 'Humidity (%)': 40,\n",
              " 'Weather': 'clear sky'}"
            ]
          },
          "metadata": {},
          "execution_count": 21
        }
      ]
    },
    {
      "cell_type": "markdown",
      "metadata": {
        "id": "bf3a4553"
      },
      "source": [
        "## Saving Data to a CSV File\n",
        "We use pandas library for most of of data handling. Lets save the fetched data to a CSV file using pandas.\n",
        "\n",
        "### Convert Data to DataFrame\n"
      ],
      "id": "bf3a4553"
    },
    {
      "cell_type": "code",
      "metadata": {
        "id": "551e300e"
      },
      "source": [
        "def save_to_csv(data, filename):\n",
        "    df = pd.DataFrame([data])\n",
        "    df.to_csv(filename, index=False)\n",
        "\n",
        "save_to_csv(parsed_data, 'california_housing_test.csv')"
      ],
      "id": "551e300e",
      "execution_count": 32,
      "outputs": []
    },
    {
      "cell_type": "markdown",
      "metadata": {
        "id": "2efbc236"
      },
      "source": [
        "# Read and Display the CSV File\n"
      ],
      "id": "2efbc236"
    },
    {
      "cell_type": "code",
      "metadata": {
        "colab": {
          "base_uri": "https://localhost:8080/",
          "height": 89
        },
        "id": "2f3cb221",
        "outputId": "ade15916-a1dc-4bec-aaaa-e68b9f858641"
      },
      "source": [
        "df = pd.read_csv('california_housing_test.csv')\n",
        "df"
      ],
      "id": "2f3cb221",
      "execution_count": 46,
      "outputs": [
        {
          "output_type": "execute_result",
          "data": {
            "text/plain": [
              "  Location  Temperature (K)  Humidity (%)    Weather\n",
              "0    Perth           294.96            40  clear sky"
            ],
            "text/html": [
              "\n",
              "  <div id=\"df-0dc7dc71-7f10-474b-95e1-939e168b7731\" class=\"colab-df-container\">\n",
              "    <div>\n",
              "<style scoped>\n",
              "    .dataframe tbody tr th:only-of-type {\n",
              "        vertical-align: middle;\n",
              "    }\n",
              "\n",
              "    .dataframe tbody tr th {\n",
              "        vertical-align: top;\n",
              "    }\n",
              "\n",
              "    .dataframe thead th {\n",
              "        text-align: right;\n",
              "    }\n",
              "</style>\n",
              "<table border=\"1\" class=\"dataframe\">\n",
              "  <thead>\n",
              "    <tr style=\"text-align: right;\">\n",
              "      <th></th>\n",
              "      <th>Location</th>\n",
              "      <th>Temperature (K)</th>\n",
              "      <th>Humidity (%)</th>\n",
              "      <th>Weather</th>\n",
              "    </tr>\n",
              "  </thead>\n",
              "  <tbody>\n",
              "    <tr>\n",
              "      <th>0</th>\n",
              "      <td>Perth</td>\n",
              "      <td>294.96</td>\n",
              "      <td>40</td>\n",
              "      <td>clear sky</td>\n",
              "    </tr>\n",
              "  </tbody>\n",
              "</table>\n",
              "</div>\n",
              "    <div class=\"colab-df-buttons\">\n",
              "\n",
              "  <div class=\"colab-df-container\">\n",
              "    <button class=\"colab-df-convert\" onclick=\"convertToInteractive('df-0dc7dc71-7f10-474b-95e1-939e168b7731')\"\n",
              "            title=\"Convert this dataframe to an interactive table.\"\n",
              "            style=\"display:none;\">\n",
              "\n",
              "  <svg xmlns=\"http://www.w3.org/2000/svg\" height=\"24px\" viewBox=\"0 -960 960 960\">\n",
              "    <path d=\"M120-120v-720h720v720H120Zm60-500h600v-160H180v160Zm220 220h160v-160H400v160Zm0 220h160v-160H400v160ZM180-400h160v-160H180v160Zm440 0h160v-160H620v160ZM180-180h160v-160H180v160Zm440 0h160v-160H620v160Z\"/>\n",
              "  </svg>\n",
              "    </button>\n",
              "\n",
              "  <style>\n",
              "    .colab-df-container {\n",
              "      display:flex;\n",
              "      gap: 12px;\n",
              "    }\n",
              "\n",
              "    .colab-df-convert {\n",
              "      background-color: #E8F0FE;\n",
              "      border: none;\n",
              "      border-radius: 50%;\n",
              "      cursor: pointer;\n",
              "      display: none;\n",
              "      fill: #1967D2;\n",
              "      height: 32px;\n",
              "      padding: 0 0 0 0;\n",
              "      width: 32px;\n",
              "    }\n",
              "\n",
              "    .colab-df-convert:hover {\n",
              "      background-color: #E2EBFA;\n",
              "      box-shadow: 0px 1px 2px rgba(60, 64, 67, 0.3), 0px 1px 3px 1px rgba(60, 64, 67, 0.15);\n",
              "      fill: #174EA6;\n",
              "    }\n",
              "\n",
              "    .colab-df-buttons div {\n",
              "      margin-bottom: 4px;\n",
              "    }\n",
              "\n",
              "    [theme=dark] .colab-df-convert {\n",
              "      background-color: #3B4455;\n",
              "      fill: #D2E3FC;\n",
              "    }\n",
              "\n",
              "    [theme=dark] .colab-df-convert:hover {\n",
              "      background-color: #434B5C;\n",
              "      box-shadow: 0px 1px 3px 1px rgba(0, 0, 0, 0.15);\n",
              "      filter: drop-shadow(0px 1px 2px rgba(0, 0, 0, 0.3));\n",
              "      fill: #FFFFFF;\n",
              "    }\n",
              "  </style>\n",
              "\n",
              "    <script>\n",
              "      const buttonEl =\n",
              "        document.querySelector('#df-0dc7dc71-7f10-474b-95e1-939e168b7731 button.colab-df-convert');\n",
              "      buttonEl.style.display =\n",
              "        google.colab.kernel.accessAllowed ? 'block' : 'none';\n",
              "\n",
              "      async function convertToInteractive(key) {\n",
              "        const element = document.querySelector('#df-0dc7dc71-7f10-474b-95e1-939e168b7731');\n",
              "        const dataTable =\n",
              "          await google.colab.kernel.invokeFunction('convertToInteractive',\n",
              "                                                    [key], {});\n",
              "        if (!dataTable) return;\n",
              "\n",
              "        const docLinkHtml = 'Like what you see? Visit the ' +\n",
              "          '<a target=\"_blank\" href=https://colab.research.google.com/notebooks/data_table.ipynb>data table notebook</a>'\n",
              "          + ' to learn more about interactive tables.';\n",
              "        element.innerHTML = '';\n",
              "        dataTable['output_type'] = 'display_data';\n",
              "        await google.colab.output.renderOutput(dataTable, element);\n",
              "        const docLink = document.createElement('div');\n",
              "        docLink.innerHTML = docLinkHtml;\n",
              "        element.appendChild(docLink);\n",
              "      }\n",
              "    </script>\n",
              "  </div>\n",
              "\n",
              "\n",
              "  <div id=\"id_9d9f4ef8-cffe-45c5-b85c-e02d82e15ee9\">\n",
              "    <style>\n",
              "      .colab-df-generate {\n",
              "        background-color: #E8F0FE;\n",
              "        border: none;\n",
              "        border-radius: 50%;\n",
              "        cursor: pointer;\n",
              "        display: none;\n",
              "        fill: #1967D2;\n",
              "        height: 32px;\n",
              "        padding: 0 0 0 0;\n",
              "        width: 32px;\n",
              "      }\n",
              "\n",
              "      .colab-df-generate:hover {\n",
              "        background-color: #E2EBFA;\n",
              "        box-shadow: 0px 1px 2px rgba(60, 64, 67, 0.3), 0px 1px 3px 1px rgba(60, 64, 67, 0.15);\n",
              "        fill: #174EA6;\n",
              "      }\n",
              "\n",
              "      [theme=dark] .colab-df-generate {\n",
              "        background-color: #3B4455;\n",
              "        fill: #D2E3FC;\n",
              "      }\n",
              "\n",
              "      [theme=dark] .colab-df-generate:hover {\n",
              "        background-color: #434B5C;\n",
              "        box-shadow: 0px 1px 3px 1px rgba(0, 0, 0, 0.15);\n",
              "        filter: drop-shadow(0px 1px 2px rgba(0, 0, 0, 0.3));\n",
              "        fill: #FFFFFF;\n",
              "      }\n",
              "    </style>\n",
              "    <button class=\"colab-df-generate\" onclick=\"generateWithVariable('df')\"\n",
              "            title=\"Generate code using this dataframe.\"\n",
              "            style=\"display:none;\">\n",
              "\n",
              "  <svg xmlns=\"http://www.w3.org/2000/svg\" height=\"24px\"viewBox=\"0 0 24 24\"\n",
              "       width=\"24px\">\n",
              "    <path d=\"M7,19H8.4L18.45,9,17,7.55,7,17.6ZM5,21V16.75L18.45,3.32a2,2,0,0,1,2.83,0l1.4,1.43a1.91,1.91,0,0,1,.58,1.4,1.91,1.91,0,0,1-.58,1.4L9.25,21ZM18.45,9,17,7.55Zm-12,3A5.31,5.31,0,0,0,4.9,8.1,5.31,5.31,0,0,0,1,6.5,5.31,5.31,0,0,0,4.9,4.9,5.31,5.31,0,0,0,6.5,1,5.31,5.31,0,0,0,8.1,4.9,5.31,5.31,0,0,0,12,6.5,5.46,5.46,0,0,0,6.5,12Z\"/>\n",
              "  </svg>\n",
              "    </button>\n",
              "    <script>\n",
              "      (() => {\n",
              "      const buttonEl =\n",
              "        document.querySelector('#id_9d9f4ef8-cffe-45c5-b85c-e02d82e15ee9 button.colab-df-generate');\n",
              "      buttonEl.style.display =\n",
              "        google.colab.kernel.accessAllowed ? 'block' : 'none';\n",
              "\n",
              "      buttonEl.onclick = () => {\n",
              "        google.colab.notebook.generateWithVariable('df');\n",
              "      }\n",
              "      })();\n",
              "    </script>\n",
              "  </div>\n",
              "\n",
              "    </div>\n",
              "  </div>\n"
            ],
            "application/vnd.google.colaboratory.intrinsic+json": {
              "type": "dataframe",
              "variable_name": "df",
              "summary": "{\n  \"name\": \"df\",\n  \"rows\": 1,\n  \"fields\": [\n    {\n      \"column\": \"Location\",\n      \"properties\": {\n        \"dtype\": \"string\",\n        \"num_unique_values\": 1,\n        \"samples\": [\n          \"Perth\"\n        ],\n        \"semantic_type\": \"\",\n        \"description\": \"\"\n      }\n    },\n    {\n      \"column\": \"Temperature (K)\",\n      \"properties\": {\n        \"dtype\": \"number\",\n        \"std\": null,\n        \"min\": 294.96,\n        \"max\": 294.96,\n        \"num_unique_values\": 1,\n        \"samples\": [\n          294.96\n        ],\n        \"semantic_type\": \"\",\n        \"description\": \"\"\n      }\n    },\n    {\n      \"column\": \"Humidity (%)\",\n      \"properties\": {\n        \"dtype\": \"number\",\n        \"std\": null,\n        \"min\": 40,\n        \"max\": 40,\n        \"num_unique_values\": 1,\n        \"samples\": [\n          40\n        ],\n        \"semantic_type\": \"\",\n        \"description\": \"\"\n      }\n    },\n    {\n      \"column\": \"Weather\",\n      \"properties\": {\n        \"dtype\": \"string\",\n        \"num_unique_values\": 1,\n        \"samples\": [\n          \"clear sky\"\n        ],\n        \"semantic_type\": \"\",\n        \"description\": \"\"\n      }\n    }\n  ]\n}"
            }
          },
          "metadata": {},
          "execution_count": 46
        }
      ]
    },
    {
      "cell_type": "markdown",
      "metadata": {
        "id": "07e280c4"
      },
      "source": [
        "## 5. Error Handling\n",
        "It's important to handle errors that may occur during API requests. We've\n",
        "already added basic error handling in the `fetch_weather_data` function. Let's\n",
        "test it with an invalid location.\n",
        "\n",
        "### Test Error Handling\n"
      ],
      "id": "07e280c4"
    },
    {
      "cell_type": "code",
      "metadata": {
        "id": "909df804"
      },
      "source": [
        "invalid_location = 'InvalidCity'\n",
        "invalid_data = fetch_weather_data(api_key, invalid_location)\n",
        "invalid_data"
      ],
      "id": "909df804",
      "execution_count": null,
      "outputs": []
    },
    {
      "cell_type": "markdown",
      "metadata": {
        "id": "d0f1ef5b"
      },
      "source": [
        "## Data Manipulation and Visualisation\n",
        "\n",
        "Let's perform some basic data manipulation and create a simple visualisation.\n",
        "\n",
        "```python\n",
        "# Fetch data for multiple cities\n",
        "cities = ['New York', 'London', 'Tokyo', 'Sydney', 'Moscow']\n",
        "weather_data = []\n",
        "\n",
        "for city in cities:\n",
        "    data = fetch_weather_data(api_key, city)\n",
        "    if data:\n",
        "        weather_data.append(parse_weather_data(data))\n",
        "\n",
        "# Create a DataFrame\n",
        "df = pd.DataFrame(weather_data)\n",
        "\n",
        "# Convert temperature from Kelvin to Celsius\n",
        "df['Temperature (C)'] = df['Temperature (K)'] - 273.15\n",
        "\n",
        "# Create a bar plot of temperatures\n",
        "plt.figure(figsize=(10, 6))\n",
        "plt.bar(df['Location'], df['Temperature (C)'])\n",
        "plt.title('Temperature Comparison Across Cities')\n",
        "plt.xlabel('City')\n",
        "plt.ylabel('Temperature (°C)')\n",
        "plt.xticks(rotation=45)\n",
        "plt.tight_layout()\n",
        "plt.show()\n",
        "\n",
        "# Display humidity levels\n",
        "print(df[['Location', 'Humidity (%)']])\n",
        "```\n",
        "\n",
        "## API Rate Limits and Best Practices\n",
        "\n",
        "When working with APIs, it's crucial to be aware of rate limits and follow best\n",
        "practices:\n",
        "\n",
        "1. **Check the documentation**: Always review the API documentation for rate\n",
        "   limits. OpenWeatherMap has different limits based on your subscription level.\n",
        "\n",
        "2. **Implement rate limiting**: In your code, implement delays between requests\n",
        "   to avoid hitting rate limits.\n",
        "\n",
        "3. **Cache responses**: For data that doesn't change frequently, consider\n",
        "   caching responses to reduce the number of API calls.\n",
        "\n",
        "4. **Use bulk requests when possible**: Some APIs offer bulk data retrieval. Use\n",
        "   these features when available to minimise the number of requests.\n",
        "\n",
        "5. **Handle errors gracefully**: Implement proper error handling, especially for\n",
        "   rate limit errors (usually HTTP 429 status code).\n",
        "\n",
        "Example of implementing a simple delay:\n",
        "\n",
        "```python\n",
        "import time\n",
        "\n",
        "def fetch_weather_data_with_delay(api_key, location, delay=1):\n",
        "    data = fetch_weather_data(api_key, location)\n",
        "    time.sleep(delay)  # Wait for 1 second before the next request\n",
        "    return data\n",
        "\n",
        "# Usage\n",
        "for city in cities:\n",
        "    data = fetch_weather_data_with_delay(api_key, city)\n",
        "    # Process data...\n",
        "```\n",
        "\n",
        "Remember, respecting API rate limits is not just about avoiding errors - it's\n",
        "about being a good API citizen and ensuring fair usage for all users.\n",
        "\n",
        "## Secure API Key Management\n",
        "\n",
        "# Method 1: Using a Secrets File (`api_key.txt`)\n",
        "\n",
        "- **Advantages:**\n",
        "  - Keeps API keys separate from your code.\n",
        "  - Easy to manage and update without altering the codebase.\n",
        "\n",
        "- **Disadvantages:**\n",
        "  - Requires handling the file securely.\n",
        "  - Must ensure the file is not uploaded to public repositories.\n"
      ],
      "id": "d0f1ef5b"
    },
    {
      "cell_type": "code",
      "source": [
        "import matplotlib.pyplot as plt\n",
        "# Fetch data for multiple cities\n",
        "cities = ['New York', 'London', 'Tokyo', 'Sydney', 'Moscow']\n",
        "weather_data = []\n",
        "\n",
        "for city in cities:\n",
        "    data = fetch_weather_data(api_key, city)\n",
        "    if data:\n",
        "        weather_data.append(parse_weather_data(data))\n",
        "\n",
        "# Create a DataFrame\n",
        "df = pd.DataFrame(weather_data)\n",
        "\n",
        "# Convert temperature from Kelvin to Celsius\n",
        "#df['Temperature (C)'] = df['Temperature (K)'] - 273.15\n",
        "\n",
        "# Create a bar plot of temperatures\n",
        "plt.figure(figsize=(10, 6))\n",
        "plt.bar(df['Location'], df['Temperature (K)'])\n",
        "plt.title('Temperature Comparison Across Cities')\n",
        "plt.xlabel('City')\n",
        "plt.ylabel('Temperature (°C)')\n",
        "plt.xticks(rotation=45)\n",
        "plt.tight_layout()\n",
        "plt.show()\n",
        "\n",
        "# Display humidity levels\n",
        "print(df[['Location', 'Humidity (%)']])"
      ],
      "metadata": {
        "colab": {
          "base_uri": "https://localhost:8080/",
          "height": 472
        },
        "id": "_G9VxPyMH-wa",
        "outputId": "0581a118-ffbf-4f6f-b8c8-574f21d14c52"
      },
      "id": "_G9VxPyMH-wa",
      "execution_count": 63,
      "outputs": [
        {
          "output_type": "stream",
          "name": "stdout",
          "text": [
            "Failed to fetch data: 401\n",
            "Failed to fetch data: 401\n",
            "Failed to fetch data: 401\n",
            "Failed to fetch data: 401\n",
            "Failed to fetch data: 401\n"
          ]
        },
        {
          "output_type": "error",
          "ename": "KeyError",
          "evalue": "'Location'",
          "traceback": [
            "\u001b[0;31m---------------------------------------------------------------------------\u001b[0m",
            "\u001b[0;31mKeyError\u001b[0m                                  Traceback (most recent call last)",
            "\u001b[0;32m<ipython-input-63-12302af5a520>\u001b[0m in \u001b[0;36m<cell line: 19>\u001b[0;34m()\u001b[0m\n\u001b[1;32m     17\u001b[0m \u001b[0;31m# Create a bar plot of temperatures\u001b[0m\u001b[0;34m\u001b[0m\u001b[0;34m\u001b[0m\u001b[0m\n\u001b[1;32m     18\u001b[0m \u001b[0mplt\u001b[0m\u001b[0;34m.\u001b[0m\u001b[0mfigure\u001b[0m\u001b[0;34m(\u001b[0m\u001b[0mfigsize\u001b[0m\u001b[0;34m=\u001b[0m\u001b[0;34m(\u001b[0m\u001b[0;36m10\u001b[0m\u001b[0;34m,\u001b[0m \u001b[0;36m6\u001b[0m\u001b[0;34m)\u001b[0m\u001b[0;34m)\u001b[0m\u001b[0;34m\u001b[0m\u001b[0;34m\u001b[0m\u001b[0m\n\u001b[0;32m---> 19\u001b[0;31m \u001b[0mplt\u001b[0m\u001b[0;34m.\u001b[0m\u001b[0mbar\u001b[0m\u001b[0;34m(\u001b[0m\u001b[0mdf\u001b[0m\u001b[0;34m[\u001b[0m\u001b[0;34m'Location'\u001b[0m\u001b[0;34m]\u001b[0m\u001b[0;34m,\u001b[0m \u001b[0mdf\u001b[0m\u001b[0;34m[\u001b[0m\u001b[0;34m'Temperature (K)'\u001b[0m\u001b[0;34m]\u001b[0m\u001b[0;34m)\u001b[0m\u001b[0;34m\u001b[0m\u001b[0;34m\u001b[0m\u001b[0m\n\u001b[0m\u001b[1;32m     20\u001b[0m \u001b[0mplt\u001b[0m\u001b[0;34m.\u001b[0m\u001b[0mtitle\u001b[0m\u001b[0;34m(\u001b[0m\u001b[0;34m'Temperature Comparison Across Cities'\u001b[0m\u001b[0;34m)\u001b[0m\u001b[0;34m\u001b[0m\u001b[0;34m\u001b[0m\u001b[0m\n\u001b[1;32m     21\u001b[0m \u001b[0mplt\u001b[0m\u001b[0;34m.\u001b[0m\u001b[0mxlabel\u001b[0m\u001b[0;34m(\u001b[0m\u001b[0;34m'City'\u001b[0m\u001b[0;34m)\u001b[0m\u001b[0;34m\u001b[0m\u001b[0;34m\u001b[0m\u001b[0m\n",
            "\u001b[0;32m/usr/local/lib/python3.10/dist-packages/pandas/core/frame.py\u001b[0m in \u001b[0;36m__getitem__\u001b[0;34m(self, key)\u001b[0m\n\u001b[1;32m   3891\u001b[0m             \u001b[0;32mif\u001b[0m \u001b[0mself\u001b[0m\u001b[0;34m.\u001b[0m\u001b[0mcolumns\u001b[0m\u001b[0;34m.\u001b[0m\u001b[0mnlevels\u001b[0m \u001b[0;34m>\u001b[0m \u001b[0;36m1\u001b[0m\u001b[0;34m:\u001b[0m\u001b[0;34m\u001b[0m\u001b[0;34m\u001b[0m\u001b[0m\n\u001b[1;32m   3892\u001b[0m                 \u001b[0;32mreturn\u001b[0m \u001b[0mself\u001b[0m\u001b[0;34m.\u001b[0m\u001b[0m_getitem_multilevel\u001b[0m\u001b[0;34m(\u001b[0m\u001b[0mkey\u001b[0m\u001b[0;34m)\u001b[0m\u001b[0;34m\u001b[0m\u001b[0;34m\u001b[0m\u001b[0m\n\u001b[0;32m-> 3893\u001b[0;31m             \u001b[0mindexer\u001b[0m \u001b[0;34m=\u001b[0m \u001b[0mself\u001b[0m\u001b[0;34m.\u001b[0m\u001b[0mcolumns\u001b[0m\u001b[0;34m.\u001b[0m\u001b[0mget_loc\u001b[0m\u001b[0;34m(\u001b[0m\u001b[0mkey\u001b[0m\u001b[0;34m)\u001b[0m\u001b[0;34m\u001b[0m\u001b[0;34m\u001b[0m\u001b[0m\n\u001b[0m\u001b[1;32m   3894\u001b[0m             \u001b[0;32mif\u001b[0m \u001b[0mis_integer\u001b[0m\u001b[0;34m(\u001b[0m\u001b[0mindexer\u001b[0m\u001b[0;34m)\u001b[0m\u001b[0;34m:\u001b[0m\u001b[0;34m\u001b[0m\u001b[0;34m\u001b[0m\u001b[0m\n\u001b[1;32m   3895\u001b[0m                 \u001b[0mindexer\u001b[0m \u001b[0;34m=\u001b[0m \u001b[0;34m[\u001b[0m\u001b[0mindexer\u001b[0m\u001b[0;34m]\u001b[0m\u001b[0;34m\u001b[0m\u001b[0;34m\u001b[0m\u001b[0m\n",
            "\u001b[0;32m/usr/local/lib/python3.10/dist-packages/pandas/core/indexes/range.py\u001b[0m in \u001b[0;36mget_loc\u001b[0;34m(self, key)\u001b[0m\n\u001b[1;32m    416\u001b[0m                 \u001b[0;32mraise\u001b[0m \u001b[0mKeyError\u001b[0m\u001b[0;34m(\u001b[0m\u001b[0mkey\u001b[0m\u001b[0;34m)\u001b[0m \u001b[0;32mfrom\u001b[0m \u001b[0merr\u001b[0m\u001b[0;34m\u001b[0m\u001b[0;34m\u001b[0m\u001b[0m\n\u001b[1;32m    417\u001b[0m         \u001b[0;32mif\u001b[0m \u001b[0misinstance\u001b[0m\u001b[0;34m(\u001b[0m\u001b[0mkey\u001b[0m\u001b[0;34m,\u001b[0m \u001b[0mHashable\u001b[0m\u001b[0;34m)\u001b[0m\u001b[0;34m:\u001b[0m\u001b[0;34m\u001b[0m\u001b[0;34m\u001b[0m\u001b[0m\n\u001b[0;32m--> 418\u001b[0;31m             \u001b[0;32mraise\u001b[0m \u001b[0mKeyError\u001b[0m\u001b[0;34m(\u001b[0m\u001b[0mkey\u001b[0m\u001b[0;34m)\u001b[0m\u001b[0;34m\u001b[0m\u001b[0;34m\u001b[0m\u001b[0m\n\u001b[0m\u001b[1;32m    419\u001b[0m         \u001b[0mself\u001b[0m\u001b[0;34m.\u001b[0m\u001b[0m_check_indexing_error\u001b[0m\u001b[0;34m(\u001b[0m\u001b[0mkey\u001b[0m\u001b[0;34m)\u001b[0m\u001b[0;34m\u001b[0m\u001b[0;34m\u001b[0m\u001b[0m\n\u001b[1;32m    420\u001b[0m         \u001b[0;32mraise\u001b[0m \u001b[0mKeyError\u001b[0m\u001b[0;34m(\u001b[0m\u001b[0mkey\u001b[0m\u001b[0;34m)\u001b[0m\u001b[0;34m\u001b[0m\u001b[0;34m\u001b[0m\u001b[0m\n",
            "\u001b[0;31mKeyError\u001b[0m: 'Location'"
          ]
        },
        {
          "output_type": "display_data",
          "data": {
            "text/plain": [
              "<Figure size 1000x600 with 0 Axes>"
            ]
          },
          "metadata": {}
        }
      ]
    },
    {
      "cell_type": "code",
      "source": [],
      "metadata": {
        "id": "pZnJcEWmIU8K"
      },
      "id": "pZnJcEWmIU8K",
      "execution_count": null,
      "outputs": []
    },
    {
      "cell_type": "code",
      "metadata": {
        "colab": {
          "base_uri": "https://localhost:8080/",
          "height": 180
        },
        "id": "3f88eade",
        "outputId": "b54f727b-7895-440a-dba6-dc0a6de6d665"
      },
      "source": [
        "# Make sure you have upload api_key.txt to the Colab folder.\n",
        "with open('bb488755a468c8cb96cafbb7e3764925', 'r') as file:\n",
        "    api_key = file.read().strip()"
      ],
      "id": "3f88eade",
      "execution_count": 60,
      "outputs": [
        {
          "output_type": "error",
          "ename": "FileNotFoundError",
          "evalue": "[Errno 2] No such file or directory: 'bb488755a468c8cb96cafbb7e3764925'",
          "traceback": [
            "\u001b[0;31m---------------------------------------------------------------------------\u001b[0m",
            "\u001b[0;31mFileNotFoundError\u001b[0m                         Traceback (most recent call last)",
            "\u001b[0;32m<ipython-input-60-93f0dce341fa>\u001b[0m in \u001b[0;36m<cell line: 2>\u001b[0;34m()\u001b[0m\n\u001b[1;32m      1\u001b[0m \u001b[0;31m# Make sure you have upload api_key.txt to the Colab folder.\u001b[0m\u001b[0;34m\u001b[0m\u001b[0;34m\u001b[0m\u001b[0m\n\u001b[0;32m----> 2\u001b[0;31m \u001b[0;32mwith\u001b[0m \u001b[0mopen\u001b[0m\u001b[0;34m(\u001b[0m\u001b[0;34m'bb488755a468c8cb96cafbb7e3764925'\u001b[0m\u001b[0;34m,\u001b[0m \u001b[0;34m'r'\u001b[0m\u001b[0;34m)\u001b[0m \u001b[0;32mas\u001b[0m \u001b[0mfile\u001b[0m\u001b[0;34m:\u001b[0m\u001b[0;34m\u001b[0m\u001b[0;34m\u001b[0m\u001b[0m\n\u001b[0m\u001b[1;32m      3\u001b[0m     \u001b[0mapi_key\u001b[0m \u001b[0;34m=\u001b[0m \u001b[0mfile\u001b[0m\u001b[0;34m.\u001b[0m\u001b[0mread\u001b[0m\u001b[0;34m(\u001b[0m\u001b[0;34m)\u001b[0m\u001b[0;34m.\u001b[0m\u001b[0mstrip\u001b[0m\u001b[0;34m(\u001b[0m\u001b[0;34m)\u001b[0m\u001b[0;34m\u001b[0m\u001b[0;34m\u001b[0m\u001b[0m\n",
            "\u001b[0;31mFileNotFoundError\u001b[0m: [Errno 2] No such file or directory: 'bb488755a468c8cb96cafbb7e3764925'"
          ]
        }
      ]
    },
    {
      "cell_type": "markdown",
      "metadata": {
        "id": "42646432"
      },
      "source": [
        "# Method 2: Prompting the User to Enter the API Key\n",
        "\n",
        "- **Advantages:**\n",
        "  - No need to store the API key in a file.\n",
        "  - Reduces the risk of accidental exposure through file sharing.\n",
        "\n",
        "- **Disadvantages:**\n",
        "  - Requires manual entry each time the notebook is run.\n",
        "  - Less convenient for repetitive tasks.\n"
      ],
      "id": "42646432"
    },
    {
      "cell_type": "code",
      "metadata": {
        "colab": {
          "base_uri": "https://localhost:8080/"
        },
        "id": "f8d0fa88",
        "outputId": "f072f3b8-543a-41d9-b94a-6633ac3fb135"
      },
      "source": [
        "# Get the API key from user input\n",
        "api_key = input(\"bb488755a468c8cb96cafbb7e3764925 \")"
      ],
      "id": "f8d0fa88",
      "execution_count": 58,
      "outputs": [
        {
          "name": "stdout",
          "output_type": "stream",
          "text": [
            "bb488755a468c8cb96cafbb7e3764925 r\n"
          ]
        }
      ]
    },
    {
      "cell_type": "markdown",
      "metadata": {
        "id": "556d325a"
      },
      "source": [
        "Lets create a function to manage the API key, if the file exists, try to extract\n",
        "the key, otherwise prompt the user for the key.\n"
      ],
      "id": "556d325a"
    },
    {
      "cell_type": "code",
      "metadata": {
        "id": "015ee0af"
      },
      "source": [
        "# Function to get the API key securely\n",
        "def get_api_key():\n",
        "    \"\"\"\n",
        "    Reads the API key from a file or prompts the user to input it.\n",
        "    \"\"\"\n",
        "    try:\n",
        "        with open('api_key.txt', 'r') as file:\n",
        "            api_key = file.read().strip()\n",
        "    except FileNotFoundError:\n",
        "        api_key = input(\"Enter your OpenWeatherMap API key: \")\n",
        "    return api_key"
      ],
      "id": "015ee0af",
      "execution_count": null,
      "outputs": []
    },
    {
      "cell_type": "markdown",
      "metadata": {
        "id": "eda6c797"
      },
      "source": [
        "## Building a Simple Weather App with Plot\n",
        "Using the functions you have created above, code from the lecture notes, and\n",
        "seek help from GenAI if needed implement the following program.\n",
        "\n",
        "1. **Get API Key:** Use best practice for eky management\n",
        "2. **Get User Input:** Ask for a city name\n",
        "3. **Make API Request:** Fetch current weather forecast\n",
        "4. **Extract Dates and Temps:** Extract 4-hourly temps for each day\n",
        "5. **Calculate Average Temp:** For each day, find the average temp\n",
        "6. **Display/Plot Results:** Show average temperature plot\n"
      ],
      "id": "eda6c797"
    }
  ],
  "metadata": {
    "kernelspec": {
      "name": "python3",
      "language": "python",
      "display_name": "Python 3 (ipykernel)"
    },
    "colab": {
      "provenance": [],
      "include_colab_link": true
    }
  },
  "nbformat": 4,
  "nbformat_minor": 5
}